{
 "cells": [
  {
   "cell_type": "code",
   "execution_count": 1,
   "metadata": {},
   "outputs": [
    {
     "name": "stdout",
     "output_type": "stream",
     "text": [
      "Sending: Where did you complete your studies?\n",
      "Sending: What do you wish to know?\n",
      "Sending: Where are you from\n",
      "Sending: What is your name\n",
      "Sending: How are you?\n",
      "\n",
      "Sent messages:\n",
      "Where did you complete your studies?\n",
      "What do you wish to know?\n",
      "Where are you from\n",
      "What is your name\n",
      "How are you?\n"
     ]
    }
   ],
   "source": [
    "def send_messages(message, sent_messages):\n",
    "    while message:\n",
    "        sending = message.pop()\n",
    "        print(f'Sending: {sending}')\n",
    "        sent_messages.append(sending)\n",
    "\n",
    "def show_messages(sent_messages):\n",
    "    print('\\nSent messages:')\n",
    "    for message in sent_messages:\n",
    "        print(message)\n",
    "        \n",
    "sent = []\n",
    "messages = ['How are you?', \"What is your name\", 'Where are you from',\n",
    "           'What do you wish to know?', 'Where did you complete your studies?']\n",
    "        \n",
    "send_messages(messages, sent)\n",
    "show_messages(sent)\n",
    "    "
   ]
  },
  {
   "cell_type": "code",
   "execution_count": null,
   "metadata": {},
   "outputs": [],
   "source": []
  }
 ],
 "metadata": {
  "kernelspec": {
   "display_name": "Python 3",
   "language": "python",
   "name": "python3"
  },
  "language_info": {
   "codemirror_mode": {
    "name": "ipython",
    "version": 3
   },
   "file_extension": ".py",
   "mimetype": "text/x-python",
   "name": "python",
   "nbconvert_exporter": "python",
   "pygments_lexer": "ipython3",
   "version": "3.7.6"
  }
 },
 "nbformat": 4,
 "nbformat_minor": 4
}
